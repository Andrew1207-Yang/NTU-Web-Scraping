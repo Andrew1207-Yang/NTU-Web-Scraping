{
 "cells": [
  {
   "cell_type": "code",
   "execution_count": 1,
   "metadata": {},
   "outputs": [
    {
     "name": "stdout",
     "output_type": "stream",
     "text": [
      "123456789123456789\n"
     ]
    }
   ],
   "source": [
    "a=\"123456789\"+\\\n",
    "\"123456789\"\n",
    "print(a)"
   ]
  },
  {
   "cell_type": "code",
   "execution_count": 13,
   "metadata": {},
   "outputs": [
    {
     "name": "stdout",
     "output_type": "stream",
     "text": [
      "(10, 'python')\n",
      "tuple\n",
      "u\n",
      "(True, 'tuple', 1000.0, 10)\n",
      "2\n",
      "('1', '2', '3', '4')\n",
      "3\n",
      "1\n",
      "1\n"
     ]
    }
   ],
   "source": [
    "t1=10,\"python\"\n",
    "print(t1)\n",
    "t2=(10,1e3,\"tuple\",True)\n",
    "print(t2[2])\n",
    "print(t2[2][1])\n",
    "print(t2[::-1])\n",
    "t3=(0,(1,2),(3,4))\n",
    "print(t3[1][1])\n",
    "t4=tuple(\"1234\")\n",
    "print(t4)\n",
    "print(len(t3))\n",
    "print(t3.index((1,2)))\n",
    "print(t3.count(0))"
   ]
  },
  {
   "cell_type": "code",
   "execution_count": 37,
   "metadata": {},
   "outputs": [
    {
     "name": "stdout",
     "output_type": "stream",
     "text": [
      "[1, 2, 3, 4]\n",
      "[True, 1, 2.0, '3', (4, 5), [6, 7]]\n",
      "(4, 5)\n",
      "7\n",
      "[(4, 5), 2.0]\n",
      "-1\n"
     ]
    }
   ],
   "source": [
    "l1=[True]\n",
    "l2=[1,2.0,'3',(4,5),[6,7]]\n",
    "l3=list((1,2,3,4))\n",
    "print(l3)\n",
    "print(l1+l2)\n",
    "print(l2[3])\n",
    "print(l2[4][1])\n",
    "print(l2[-2::-2])\n",
    "l2[1]=-1\n",
    "print(l2[1])"
   ]
  },
  {
   "cell_type": "code",
   "execution_count": 36,
   "metadata": {},
   "outputs": [
    {
     "name": "stdout",
     "output_type": "stream",
     "text": [
      "5\n",
      "0\n",
      "1\n",
      "[1, -1, (4, 5), [6, 7]]\n",
      "[-1, (4, 5), [6, 7]]\n",
      "[]\n"
     ]
    }
   ],
   "source": [
    "print(len(l2))\n",
    "print(l2.index(1))\n",
    "print(l2.count(1))\n",
    "l2.pop(2)\n",
    "print(l2)\n",
    "l2.remove(1) \n",
    "print(l2)\n",
    "l2.clear()\n",
    "print(l2)\n",
    "l2=[1,2.0,'3',(4,5),[6,7]]\n"
   ]
  },
  {
   "cell_type": "code",
   "execution_count": 42,
   "metadata": {},
   "outputs": [
    {
     "name": "stdout",
     "output_type": "stream",
     "text": [
      "[1, 2.0, '3', (4, 5), [6, 7], [8, 9]]\n",
      "[1, 2.0, 10, '3', (4, 5), [6, 7], [8, 9]]\n",
      "[1, 2.0, 10, '3', (4, 5), [6, 7], [8, 9], 10, 11]\n",
      "[1, 2.0, 10, '3', (4, 5), [6, 7], [8, 9], 10, 11, 'h', 'a', 'p', 'p', 'y']\n",
      "['y', 'p', 'p', 'a', 'h', 11, 10, [8, 9], [6, 7], (4, 5), '3', 10, 2.0, 1]\n",
      "['1', '2', '3', 'a', 'b', 'c']\n"
     ]
    }
   ],
   "source": [
    "l2=[1,2.0,'3',(4,5),[6,7]]\n",
    "l2.append([8,9]) #adds to the last\n",
    "print(l2)\n",
    "l2.insert(2,10)\n",
    "print(l2)\n",
    "l2.extend([10,11])\n",
    "print(l2)\n",
    "l2.extend(\"happy\")\n",
    "print(l2)\n",
    "l2.reverse() #reverses and saves(unlike[::-1])\n",
    "print(l2)\n",
    "l1=[]\n",
    "l1.extend(\"abc123\")\n",
    "l1.sort()\n",
    "print(l1)"
   ]
  },
  {
   "cell_type": "code",
   "execution_count": 45,
   "metadata": {},
   "outputs": [
    {
     "name": "stdout",
     "output_type": "stream",
     "text": [
      "[1, 2.0, '3', (4, 5), [6, 7]]\n",
      "[1, 100, '3', (4, 5), [6, 7]]\n"
     ]
    }
   ],
   "source": [
    "l2=[1,2.0,'3',(4,5),[6,7]]\n",
    "l3 = l2.copy()\n",
    "l2[1]=10\n",
    "print(l3)\n",
    "l2=[1,2.0,'3',(4,5),[6,7]]\n",
    "l4=l2\n",
    "l2[1]=100\n",
    "print(l4)"
   ]
  },
  {
   "cell_type": "code",
   "execution_count": 53,
   "metadata": {},
   "outputs": [
    {
     "name": "stdout",
     "output_type": "stream",
     "text": [
      "{1}\n",
      "{'l', 'r', 'e', 't'}\n",
      "{'e', 'r', 'cvbn', 't', 'l'}\n",
      "{'r', 'cvbn', 't', 'l'}\n",
      "{'l', 'cvbn', 'r', 't'}\n",
      "set()\n",
      "0\n"
     ]
    }
   ],
   "source": [
    "s0={1,1,1,1,1,1}\n",
    "print(s0)\n",
    "s1=set('letter')\n",
    "print(s1)\n",
    "s1.add(\"cvbn\")\n",
    "print(s1)\n",
    "s1.remove(\"e\")\n",
    "print(s1)\n",
    "s2=s1.copy()\n",
    "print(s2)\n",
    "s1.clear()\n",
    "print(s1)\n",
    "print(len(s1))\n",
    "# set() represents an empty set\n",
    "# {} represents an empty dictionary"
   ]
  },
  {
   "cell_type": "code",
   "execution_count": 59,
   "metadata": {},
   "outputs": [
    {
     "name": "stdout",
     "output_type": "stream",
     "text": [
      "{5, 6}\n",
      "{1, 2, 3, 4, 5, 6, 7, 8, 9, 10}\n",
      "{1, 2, 3, 4}\n",
      "{8, 9, 10, 7}\n",
      "{1, 2, 3, 4, 7, 8, 9, 10}\n",
      "False\n",
      "False\n",
      "True\n",
      "False\n"
     ]
    }
   ],
   "source": [
    "s3={1,2,3,4,5,6}\n",
    "s4={5,6,7,8,9,10}\n",
    "s5={5}\n",
    "print(s3&s4)\n",
    "print(s3|s4)\n",
    "print(s3-s4)\n",
    "print(s4-s3)\n",
    "print(s3^s4)\n",
    "print(s3<=s4)\n",
    "print(s3>=s4)\n",
    "print(s5<=s3)\n",
    "print(s5>=s3)\n"
   ]
  },
  {
   "cell_type": "code",
   "execution_count": 18,
   "metadata": {},
   "outputs": [
    {
     "name": "stdout",
     "output_type": "stream",
     "text": [
      "白痴\n",
      "joseph\n",
      "dict_keys(['a', 'b'])\n",
      "dict_values([100, 200])\n",
      "dict_items([('a', 100), ('b', 200)])\n",
      "{'a': 100, 'b': 200, 'c': 1000}\n",
      "['a', 'b', 'c']\n",
      "[100, 200, 1000]\n",
      "{'seafood': '師傅', 9487: 'joseph', 'a': 100, 'b': 200, 'c': 1000}\n",
      "{'a': 100, 'b': 200, 'c': 1000}\n"
     ]
    }
   ],
   "source": [
    "d1={\"seafood\":\"師傅\", 9487:\"白痴\"}\n",
    "d2=dict([[\"a\",100],[\"b\",200]])\n",
    "print(d1[9487])\n",
    "d1[9487]=\"joseph\"\n",
    "print(d1[9487])\n",
    "print(d2.keys())\n",
    "print(d2.values())\n",
    "print(d2.items())\n",
    "d2['c']=1000\n",
    "print(d2)\n",
    "k=list(d2.keys())\n",
    "print(k)\n",
    "l=list(d2.values())\n",
    "print(l)\n",
    "d1.update(d2)\n",
    "print(d1)\n",
    "d3=d2.copy()\n",
    "print(d3)"
   ]
  },
  {
   "cell_type": "code",
   "execution_count": null,
   "metadata": {},
   "outputs": [],
   "source": []
  }
 ],
 "metadata": {
  "kernelspec": {
   "display_name": "Python 3",
   "language": "python",
   "name": "python3"
  },
  "language_info": {
   "codemirror_mode": {
    "name": "ipython",
    "version": 3
   },
   "file_extension": ".py",
   "mimetype": "text/x-python",
   "name": "python",
   "nbconvert_exporter": "python",
   "pygments_lexer": "ipython3",
   "version": "3.7.3"
  }
 },
 "nbformat": 4,
 "nbformat_minor": 2
}
