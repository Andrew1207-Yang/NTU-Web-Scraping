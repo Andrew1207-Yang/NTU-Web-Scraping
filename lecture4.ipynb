{
 "cells": [
  {
   "cell_type": "code",
   "execution_count": 1,
   "metadata": {},
   "outputs": [
    {
     "name": "stdout",
     "output_type": "stream",
     "text": [
      "('a', 'b', [100, 'd'], ['e'])\n",
      "123\n"
     ]
    },
    {
     "ename": "NameError",
     "evalue": "name 'a' is not defined",
     "output_type": "error",
     "traceback": [
      "\u001b[0;31m---------------------------------------------------------------------------\u001b[0m",
      "\u001b[0;31mNameError\u001b[0m                                 Traceback (most recent call last)",
      "\u001b[0;32m<ipython-input-1-a75637aaa087>\u001b[0m in \u001b[0;36m<module>\u001b[0;34m\u001b[0m\n\u001b[1;32m      6\u001b[0m \u001b[0mprint\u001b[0m\u001b[0;34m(\u001b[0m\u001b[0ma\u001b[0m\u001b[0;34m)\u001b[0m\u001b[0;34m\u001b[0m\u001b[0;34m\u001b[0m\u001b[0m\n\u001b[1;32m      7\u001b[0m \u001b[0;32mdel\u001b[0m \u001b[0ma\u001b[0m\u001b[0;34m\u001b[0m\u001b[0;34m\u001b[0m\u001b[0m\n\u001b[0;32m----> 8\u001b[0;31m \u001b[0mprint\u001b[0m\u001b[0;34m(\u001b[0m\u001b[0ma\u001b[0m\u001b[0;34m)\u001b[0m \u001b[0;31m# the whole variable ges deleted\u001b[0m\u001b[0;34m\u001b[0m\u001b[0;34m\u001b[0m\u001b[0m\n\u001b[0m\u001b[1;32m      9\u001b[0m \u001b[0;32mdel\u001b[0m\u001b[0;34m[\u001b[0m\u001b[0;34m]\u001b[0m \u001b[0;31m#can't be used on tuple(can't be changed) and list(doesn't come in order)\u001b[0m\u001b[0;34m\u001b[0m\u001b[0;34m\u001b[0m\u001b[0m\n",
      "\u001b[0;31mNameError\u001b[0m: name 'a' is not defined"
     ]
    }
   ],
   "source": [
    "#making a changable tuple\n",
    "t=(\"a\",\"b\",[\"c\",\"d\"],[\"e\"])\n",
    "t[-2][0]=100\n",
    "print(t)\n",
    "a=123\n",
    "print(a)\n",
    "del a\n",
    "print(a) # the whole variable ges deleted\n",
    "del[] #can't be used on tuple(can't be changed) and list(doesn't come in order)"
   ]
  },
  {
   "cell_type": "code",
   "execution_count": null,
   "metadata": {},
   "outputs": [],
   "source": [
    "#special data type \"null\" : None   # be used when any data type doesn't suit\n",
    "None outputs as False\n",
    "for anything in (None,0,0.0,'',[],(),set(),{},False) :\n",
    "     if anything :\n",
    "        print(\"haha\")\n",
    "    else:\n",
    "         print(\"hahaha\")     # can be used to check if there is something in a variable"
   ]
  },
  {
   "cell_type": "code",
   "execution_count": null,
   "metadata": {},
   "outputs": [],
   "source": [
    "DD = {1:'a', 2:'b', 3:'c'}\n",
    "2 in DD \n",
    "#can't check a value, can only check a key"
   ]
  },
  {
   "cell_type": "code",
   "execution_count": 10,
   "metadata": {},
   "outputs": [
    {
     "name": "stdout",
     "output_type": "stream",
     "text": [
      "0\n",
      "1\n",
      "2\n",
      "3\n",
      "0\n",
      "1\n",
      "2\n",
      "3\n",
      "0\n",
      "1\n",
      "2\n",
      "3\n",
      "1\n",
      "2\n",
      "3\n",
      "4\n",
      "0\n",
      "1\n",
      "2\n",
      "3\n",
      "a\n",
      "b\n",
      "c\n",
      "d\n",
      "a\n",
      "b\n",
      "c\n",
      "d\n",
      "0\n",
      "1\n",
      "2\n",
      "3\n",
      "(0, 'a')\n",
      "(1, 'b')\n",
      "(2, 'c')\n",
      "(3, 'd')\n",
      "0 a\n",
      "1 b\n",
      "2 c\n",
      "3 d\n",
      "[0, 1, 2, 3, 4, 5, 6, 7, 8, 9]\n",
      "[9, 8, 7, 6, 5, 4, 3, 2, 1, 0]\n",
      "[10, 8, 6, 4, 2, 0]\n",
      "[-10, -8, -6, -4, -2, 0]\n",
      "*****\n",
      "*****\n",
      "*****\n",
      "*****\n",
      "*****\n",
      "*****\n",
      "*\n",
      "**\n",
      "***\n",
      "****\n",
      "*\n",
      "**\n",
      "***\n",
      "****\n",
      "0\n",
      "2\n",
      "4\n",
      "6\n",
      "8\n",
      "0\n",
      "2\n",
      "4\n",
      "6\n",
      "8\n"
     ]
    }
   ],
   "source": [
    "for each in '0123':\n",
    "     print(each)  #prints a string\n",
    "    \n",
    "for each in (0,1,2,3):\n",
    "     print(each)\n",
    "    \n",
    "for each in set((0,1,2,3)):\n",
    "     print(each)\n",
    "    \n",
    "for each in set((2,1,4,3)):\n",
    "    print(each)  # will be sorted\n",
    "    \n",
    "for each in {0:'a', 1:'b', 2:'c',3:'d'}:\n",
    "    print(each)\n",
    "    \n",
    "dictionary={0:'a', 1:'b', 2:'c',3:'d'}\n",
    "for each in dictionary:\n",
    "    print(dictionary[each])\n",
    "    \n",
    "for each in {0:'a', 1:'b', 2:'c',3:'d'}.values():\n",
    "    print(each)\n",
    "    \n",
    "for each in {0:'a', 1:'b', 2:'c',3:'d'}.keys():\n",
    "     print(each)\n",
    "    \n",
    "for each in {0:'a', 1:'b', 2:'c',3:'d'}.items():\n",
    "     print(each)\n",
    "\n",
    "for each in {0:'a', 1:'b', 2:'c',3:'d'}.items():\n",
    "     print(each[0],each[-1])\n",
    "\n",
    "a=list(range(10))\n",
    "print(a)\n",
    "b=list(range(9,-1,-1))\n",
    "print(b)\n",
    "c=list(range(10,-1,-2))\n",
    "print(c)\n",
    "d=list(range(-10,1,2))\n",
    "print(d)\n",
    "\n",
    "for i in range(3):\n",
    "     print(\"*\"*5)\n",
    "\n",
    "for a in range(3):\n",
    "    for b in range(5):\n",
    "        print (\"*\",end=\"\")\n",
    "    print()\n",
    "\n",
    "for c in range(1,5):\n",
    "     print(\"*\"*c)\n",
    "    \n",
    "for a in range(4):\n",
    "    for b in range(a+1):\n",
    "        print (\"*\",end=\"\")\n",
    "    print()\n",
    "for each in range(0, 21, 2):\n",
    "    if each==10:\n",
    "        break  # ends for loop\n",
    "    print(each)\n",
    "for each in range(10):\n",
    "    if each%2==1:\n",
    "        continue #skip the rest and run the next \n",
    "    print(each)"
   ]
  },
  {
   "cell_type": "code",
   "execution_count": 34,
   "metadata": {},
   "outputs": [
    {
     "name": "stdout",
     "output_type": "stream",
     "text": [
      "5\n",
      "key1 3 A\n",
      "key2 2 A\n",
      "key3 1 A\n",
      "key1 3 B\n",
      "key2 2 B\n",
      "key1: 3 is present in both A and B\n",
      "key2: 2 is present in both A and B\n"
     ]
    }
   ],
   "source": [
    "num=int(input())\n",
    "dataList = []  #[\"P\", \"Q\"]\n",
    "dataDict = {} #{\"P\": {}, \"Q\": {}} -> {\"P\": {\"key0\": \"2\"}, \"Q\": {\"key0\": \"2\"}} \n",
    "for i in range(num):\n",
    "    row = input()\n",
    "    rowList = row.split()\n",
    "    if not rowList[-1] in dataList:\n",
    "        dataList.append(rowList[-1])\n",
    "        dataDict[rowList[-1]] = {}\n",
    "    dataDict[rowList[-1]][rowList[0]]=rowList[1]\n",
    "dataSet= set(dataDict[dataList[0]].items())&set(dataDict[dataList[1]].items())\n",
    "dataList2=list(dataSet)\n",
    "for k in range(len(dataList2)):\n",
    "    print(dataList2[0][0],\": \",dataList2[0][1],\" is present in both \",dataList[0],\" and \",dataList[1],sep=\"\")\n",
    "    dataList2.pop(0)"
   ]
  },
  {
   "cell_type": "code",
   "execution_count": 31,
   "metadata": {},
   "outputs": [
    {
     "name": "stdout",
     "output_type": "stream",
     "text": [
      "2\n",
      "key0 2 P\n",
      "key0 2 Q\n",
      "{('key0', '2')}\n"
     ]
    }
   ],
   "source": [
    "num=int(input())\n",
    "dataList = []  #[\"P\", \"Q\"]\n",
    "dataDict = {} #{\"P\": {}, \"Q\": {}} -> {\"P\": {\"key0\": \"2\"}, \"Q\": {\"key0\": \"2\"}} \n",
    "for i in range(num):\n",
    "    row = input()\n",
    "    rowList = row.split()\n",
    "    if not rowList[-1] in dataList:\n",
    "        dataList.append(rowList[-1])\n",
    "        dataDict[rowList[-1]] = {}\n",
    "    dataDict[rowList[-1]][rowList[0]]=rowList[1]\n",
    "dataSet= set(dataDict[dataList[0]].items())&set(dataDict[dataList[1]].items())\n",
    "dataList2=list(dataSet)\n",
    "print(dataSet)"
   ]
  },
  {
   "cell_type": "code",
   "execution_count": 18,
   "metadata": {},
   "outputs": [
    {
     "data": {
      "text/plain": [
       "[(1, 2, 3)]"
      ]
     },
     "execution_count": 18,
     "metadata": {},
     "output_type": "execute_result"
    }
   ],
   "source": [
    "key1 3 A\n",
    "key2 2 A\n",
    "key3 1 A \n",
    "key1 3 B\n",
    "key2 2 B\n"
   ]
  },
  {
   "cell_type": "code",
   "execution_count": null,
   "metadata": {},
   "outputs": [],
   "source": []
  }
 ],
 "metadata": {
  "kernelspec": {
   "display_name": "Python 3",
   "language": "python",
   "name": "python3"
  },
  "language_info": {
   "codemirror_mode": {
    "name": "ipython",
    "version": 3
   },
   "file_extension": ".py",
   "mimetype": "text/x-python",
   "name": "python",
   "nbconvert_exporter": "python",
   "pygments_lexer": "ipython3",
   "version": "3.7.3"
  }
 },
 "nbformat": 4,
 "nbformat_minor": 2
}
