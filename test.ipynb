{
 "cells": [
  {
   "cell_type": "code",
   "execution_count": 18,
   "metadata": {},
   "outputs": [
    {
     "name": "stdout",
     "output_type": "stream",
     "text": [
      "4\n",
      "   o\n",
      "  o o\n",
      " o   o\n",
      "o o o o\n"
     ]
    }
   ],
   "source": [
    "X=int(input())\n",
    "for h in range(X):\n",
    "    l= X+h\n",
    "    if h==0:\n",
    "        print((\"{:>\"+str(l)+\"}\").format(\"o\"))\n",
    "    elif h==X-1:\n",
    "        print((\"{:>\"+str(l)+\"}\").format(\"o\"+\" o\"*(X-1)))\n",
    "    else:\n",
    "        print((\"{:>\"+str(l)+\"}\").format(\"o\"+\" \"*(2*h-1)+\"o\"))\n",
    "\n",
    "    "
   ]
  },
  {
   "cell_type": "code",
   "execution_count": 43,
   "metadata": {},
   "outputs": [
    {
     "name": "stdout",
     "output_type": "stream",
     "text": [
      "b123\n",
      "real\n",
      "-1\n"
     ]
    }
   ],
   "source": [
    "alphabet = {'A':10,'J':18,'S':26,\n",
    "       'B':11,'K':19,'T':27,\n",
    "       'C':12,'L':20,'U':28,\n",
    "       'D':13,'M':21,'V':29,\n",
    "       'E':14,'N':22,'W':32,\n",
    "       'F':15,'O':35,'X':30,\n",
    "       'G':16,'P':23,'Y':31,\n",
    "       'H':17,'Q':24,'Z':33,\n",
    "       'I':34,'R':25}\n",
    "\n",
    "\n",
    "a=\"\"\n",
    "while a!= \"-1\":\n",
    "    a=input().upper()\n",
    "    if a!=\"-1\":\n",
    "        List=list(a)\n",
    "        k=alphabet[List[0]]\n",
    "        List.pop(0)\n",
    "        num=0\n",
    "        num+=(k//10)*1\n",
    "        num+=(k%10)*9\n",
    "        for k in range(len(List)):\n",
    "            if k!=8:\n",
    "                num+=(int(List[k]))*(8-k)\n",
    "            else:\n",
    "                num+=int(List[k])\n",
    "        if num%10==0:\n",
    "            print(\"real\")\n",
    "        else:\n",
    "            print(\"fake\")\n",
    "\n",
    "\n"
   ]
  },
  {
   "cell_type": "code",
   "execution_count": 73,
   "metadata": {},
   "outputs": [
    {
     "name": "stdout",
     "output_type": "stream",
     "text": [
      "2018/11/22\n",
      "5\n",
      "Jerry 12/31\n",
      "Judy 1/1\n",
      "Jacky 11/1\n",
      "John 11/22\n",
      "Joe 11/23\n",
      "John 0 day\n",
      "Joe 1 day\n",
      "Jerry 39 days\n",
      "Judy 40 days\n",
      "Jacky 344 days\n"
     ]
    }
   ],
   "source": [
    "import time\n",
    "import datetime\n",
    "dis=[]\n",
    "dic={}\n",
    "date=datetime.datetime.strptime(input(),\"%Y/%m/%d\")\n",
    "checkTime=int(input())\n",
    "for i in range(checkTime):\n",
    "    whole=input().split(\" \")\n",
    "    check=datetime.datetime.strptime(whole[1],\"%m/%d\")\n",
    "    if int(date.strftime(\"%j\"))-int(check.strftime(\"%j\"))<=0:\n",
    "        dis.append((int(date.strftime(\"%j\"))-int(check.strftime(\"%j\")))*(-1))\n",
    "        \n",
    "        dic[(int(date.strftime(\"%j\"))-int(check.strftime(\"%j\")))*(-1)]=whole[0]\n",
    "    else:\n",
    "        if date.year%4==0:\n",
    "            dis.append((int(date.strftime(\"%j\"))-int(check.strftime(\"%j\")))*(-1)+366)\n",
    "            dic[(int(date.strftime(\"%j\"))-int(check.strftime(\"%j\")))*(-1)+366]=whole[0]\n",
    "        else:\n",
    "            dis.append((int(date.strftime(\"%j\"))-int(check.strftime(\"%j\")))*(-1)+365)\n",
    "            dic[(int(date.strftime(\"%j\"))-int(check.strftime(\"%j\")))*(-1)+365]=whole[0]\n",
    "dis.sort()\n",
    "for i in range(len(dis)):\n",
    "    if dis[i]==0:\n",
    "        print(str(dic[dis[i]]),str(dis[i]),\"day\",sep=\" \")\n",
    "    elif dis[i]==1:\n",
    "        print(str(dic[dis[i]]),str(dis[i]),\"day\",sep=\" \")\n",
    "    else:\n",
    "        print(str(dic[dis[i]]),str(dis[i]),\"days\",sep=\" \")\n",
    "\n",
    "    "
   ]
  },
  {
   "cell_type": "code",
   "execution_count": 65,
   "metadata": {},
   "outputs": [],
   "source": [
    "dis=[]\n",
    "dis.append(1)"
   ]
  },
  {
   "cell_type": "code",
   "execution_count": null,
   "metadata": {},
   "outputs": [],
   "source": []
  },
  {
   "cell_type": "code",
   "execution_count": 61,
   "metadata": {},
   "outputs": [
    {
     "name": "stdout",
     "output_type": "stream",
     "text": [
      "[1]\n"
     ]
    }
   ],
   "source": [
    "print(dis)"
   ]
  },
  {
   "cell_type": "code",
   "execution_count": null,
   "metadata": {},
   "outputs": [],
   "source": []
  }
 ],
 "metadata": {
  "kernelspec": {
   "display_name": "Python 3",
   "language": "python",
   "name": "python3"
  },
  "language_info": {
   "codemirror_mode": {
    "name": "ipython",
    "version": 3
   },
   "file_extension": ".py",
   "mimetype": "text/x-python",
   "name": "python",
   "nbconvert_exporter": "python",
   "pygments_lexer": "ipython3",
   "version": "3.6.5"
  }
 },
 "nbformat": 4,
 "nbformat_minor": 2
}
