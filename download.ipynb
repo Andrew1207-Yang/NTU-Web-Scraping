{
 "cells": [
  {
   "cell_type": "code",
   "execution_count": 2,
   "metadata": {},
   "outputs": [],
   "source": [
    "import requests\n",
    "\n",
    "image_url = \"https://fbfh.trade.gov.tw/rich/text/common/code_98/CheckImageCode.aspx\"\n",
    "r = requests.get(image_url)\n",
    "\n",
    "with open(\"captcha.png\",'wb') as f:\n",
    "    f.write(r.content)"
   ]
  },
  {
   "cell_type": "code",
   "execution_count": 15,
   "metadata": {},
   "outputs": [
    {
     "name": "stdout",
     "output_type": "stream",
     "text": [
      "aua3u9\n"
     ]
    }
   ],
   "source": [
    "import pytesseract\n",
    "from PIL import Image, ImageEnhance\n",
    "im = Image.open(\"captcha.png\")\n",
    "im = im.convert(\"RGBA\")\n",
    "im = ImageEnhance.Contrast(im).enhance(3.0)\n",
    "im = ImageEnhance.Brightness(im).enhance(35.0)\n",
    "im = ImageEnhance.Color(im).enhance(0.1)\n",
    "#im.show()\n",
    "\n",
    "Capt = pytesseract.image_to_string(im).lower()\n",
    "print(Capt)"
   ]
  },
  {
   "cell_type": "code",
   "execution_count": null,
   "metadata": {},
   "outputs": [],
   "source": []
  }
 ],
 "metadata": {
  "kernelspec": {
   "display_name": "Python 3",
   "language": "python",
   "name": "python3"
  },
  "language_info": {
   "codemirror_mode": {
    "name": "ipython",
    "version": 3
   },
   "file_extension": ".py",
   "mimetype": "text/x-python",
   "name": "python",
   "nbconvert_exporter": "python",
   "pygments_lexer": "ipython3",
   "version": "3.7.3"
  }
 },
 "nbformat": 4,
 "nbformat_minor": 2
}
