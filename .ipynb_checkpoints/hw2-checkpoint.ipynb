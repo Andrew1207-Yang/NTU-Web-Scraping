{
 "cells": [
  {
   "cell_type": "code",
   "execution_count": 21,
   "metadata": {},
   "outputs": [
    {
     "name": "stdout",
     "output_type": "stream",
     "text": [
      "ABCDAAEFeDaBDCBCBcBCbCBBdad\n",
      "d\n",
      "6 3 12 2 "
     ]
    }
   ],
   "source": [
    "letters= input().upper()\n",
    "letterWanted=input().upper()\n",
    "letterList=list(letters)\n",
    "result=[]\n",
    "a=0\n",
    "while letterWanted in letterList:\n",
    "    result.append(int(letterList.index(letterWanted))+a)\n",
    "    a=a+1\n",
    "    letterList.pop(int(letterList.index(letterWanted)))\n",
    "while len(result)>1:\n",
    "    print(int(result[1])-int(result[0]),end=\" \")\n",
    "    result.pop(0)\n",
    "    \n",
    "    \n"
   ]
  },
  {
   "cell_type": "code",
   "execution_count": 28,
   "metadata": {},
   "outputs": [
    {
     "name": "stdout",
     "output_type": "stream",
     "text": [
      "RRRRBRRRRB\n",
      "RRRRRRRRRR\n",
      "2000 4\n"
     ]
    }
   ],
   "source": [
    "answer=list(input())\n",
    "while \"-\" in answer:\n",
    "    answer.remove(\"-\")\n",
    "player=list(input())\n",
    "while \"-\" in player:\n",
    "    player.remove(\"-\")\n",
    "length=len(answer)\n",
    "combo= 0\n",
    "maxCombo=0\n",
    "score=0\n",
    "for k in range(length):\n",
    "    if player[0]==answer[0]:\n",
    "        combo+=1\n",
    "        if combo > maxCombo:\n",
    "            maxCombo=combo\n",
    "        score+= combo*100\n",
    "    else:\n",
    "        combo=0\n",
    "    player.pop(0)\n",
    "    answer.pop(0)\n",
    "print(score,maxCombo)\n"
   ]
  },
  {
   "cell_type": "code",
   "execution_count": 7,
   "metadata": {},
   "outputs": [
    {
     "name": "stdout",
     "output_type": "stream",
     "text": [
      "a 2\n",
      "day 4\n",
      "have 1\n",
      "nice 3\n",
      "0\n",
      "have a nice day.\n"
     ]
    }
   ],
   "source": [
    "sentence=\"\"\n",
    "k=\"\"\n",
    "totalList=[]\n",
    "length=0\n",
    "while k!=\"0\":\n",
    "    k=input()\n",
    "    if k==\"0\":\n",
    "        break\n",
    "    length+=1\n",
    "    r=k.split()\n",
    "    q=str(r[1]+r[0])\n",
    "    totalList.append(q)\n",
    "    totalList.sort()\n",
    "while totalList:\n",
    "    sentence+=totalList[0]\n",
    "    totalList.pop(0)\n",
    "num=1\n",
    "sentence=sentence.replace(\"1\",\"\")\n",
    "while length>0:\n",
    "    num+=1\n",
    "    sentence=sentence.replace(str(num),\" \")\n",
    "    length-=1\n",
    "print(sentence,\".\",sep=\"\")\n",
    "\n",
    "    \n",
    "    \n",
    "    \n",
    "    "
   ]
  },
  {
   "cell_type": "code",
   "execution_count": 51,
   "metadata": {},
   "outputs": [
    {
     "data": {
      "text/plain": [
       "'ello'"
      ]
     },
     "execution_count": 51,
     "metadata": {},
     "output_type": "execute_result"
    }
   ],
   "source": [
    "\"hello\".replace(\"h\",\"\")"
   ]
  },
  {
   "cell_type": "code",
   "execution_count": 48,
   "metadata": {},
   "outputs": [
    {
     "data": {
      "text/plain": [
       "'have2a3nice4day'"
      ]
     },
     "execution_count": 48,
     "metadata": {},
     "output_type": "execute_result"
    }
   ],
   "source": [
    "num=1\n",
    "sentence=\"1have2a3nice4day\"\n",
    "sentence.replace(str(num),\"\")"
   ]
  },
  {
   "cell_type": "code",
   "execution_count": 2,
   "metadata": {},
   "outputs": [
    {
     "name": "stdout",
     "output_type": "stream",
     "text": [
      "1\n",
      "1have2a3nice4day\n"
     ]
    }
   ],
   "source": [
    "\n",
    "\n"
   ]
  },
  {
   "cell_type": "code",
   "execution_count": null,
   "metadata": {},
   "outputs": [],
   "source": []
  }
 ],
 "metadata": {
  "kernelspec": {
   "display_name": "Python 3",
   "language": "python",
   "name": "python3"
  },
  "language_info": {
   "codemirror_mode": {
    "name": "ipython",
    "version": 3
   },
   "file_extension": ".py",
   "mimetype": "text/x-python",
   "name": "python",
   "nbconvert_exporter": "python",
   "pygments_lexer": "ipython3",
   "version": "3.7.3"
  }
 },
 "nbformat": 4,
 "nbformat_minor": 2
}
