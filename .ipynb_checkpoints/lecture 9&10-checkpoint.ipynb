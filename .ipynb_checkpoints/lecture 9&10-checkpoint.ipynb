{
 "cells": [
  {
   "cell_type": "code",
   "execution_count": 2,
   "metadata": {
    "scrolled": true
   },
   "outputs": [],
   "source": [
    "from selenium import webdriver\n",
    "from time import sleep\n",
    "from pyquery import PyQuery as pq"
   ]
  },
  {
   "cell_type": "code",
   "execution_count": 51,
   "metadata": {},
   "outputs": [],
   "source": [
    "driver = webdriver.Chrome(\"/Users/Andew1207/pytest/chromedriver\")\n",
    "driver.get(\"https://webscraper.io/test-sites/e-commerce/more/computers/laptops\")\n",
    "driver.current_url    \n",
    "moreBtn=driver.find_element_by_css_selector(\"body > div.wrapper > div.container.test-site > div > div.col-md-9 > a\")\n",
    "while True:\n",
    "    sleep(0.1)\n",
    "    try:\n",
    "        moreBtn.click()\n",
    "    except:\n",
    "        break\n",
    "html = driver.find_element_by_css_selector(\"*\").get_attribute(\"outerHTML\")\n",
    "docLv2 = pq(html)\n",
    "dataList=[]\n",
    "for eachItemDoc in docLv2(\".thumbnail\").items():\n",
    "            dataDict={}\n",
    "            dataDict[\"title\"]=str(eachItemDoc(\".caption>h4>.title\").text())\n",
    "            dataDict[\"price\"]=float(eachItemDoc(\".caption>h4.price\").text().replace(\"$\",\"\"))\n",
    "            dataDict[\"stars\"]=int(len(eachItemDoc(\".ratings .glyphicon-star\")))\n",
    "            dataList.append(dataDict)\n",
    "    "
   ]
  },
  {
   "cell_type": "code",
   "execution_count": 53,
   "metadata": {},
   "outputs": [
    {
     "name": "stdout",
     "output_type": "stream",
     "text": [
      "[{'title': 'Asus VivoBook X4', 'price': 295.99, 'stars': 5}, {'title': 'Prestigio SmartB', 'price': 299.0, 'stars': 5}, {'title': 'Prestigio SmartB', 'price': 299.0, 'stars': 5}, {'title': 'Aspire E1-510', 'price': 306.99, 'stars': 5}, {'title': 'Lenovo V110-15IA', 'price': 321.94, 'stars': 5}, {'title': 'Lenovo V110-15IA', 'price': 356.49, 'stars': 5}, {'title': 'Hewlett Packard', 'price': 364.46, 'stars': 5}, {'title': 'Acer Aspire 3 A3', 'price': 372.7, 'stars': 5}, {'title': 'Acer Aspire A315', 'price': 379.94, 'stars': 5}, {'title': 'Acer Aspire ES1-', 'price': 379.95, 'stars': 5}, {'title': 'Acer Aspire 3 A3', 'price': 391.48, 'stars': 5}, {'title': 'Acer Aspire 3 A3', 'price': 393.88, 'stars': 5}, {'title': 'Asus VivoBook Ma', 'price': 399.0, 'stars': 5}, {'title': 'Asus VivoBook E5', 'price': 399.99, 'stars': 5}, {'title': 'Lenovo ThinkPad', 'price': 404.23, 'stars': 5}, {'title': 'Acer Aspire 3 A3', 'price': 408.98, 'stars': 5}, {'title': 'Lenovo V110-15IS', 'price': 409.63, 'stars': 5}, {'title': 'Acer Aspire ES1-', 'price': 410.46, 'stars': 5}, {'title': 'Asus VivoBook 15', 'price': 410.66, 'stars': 5}, {'title': 'Packard 255 G2', 'price': 416.99, 'stars': 5}, {'title': 'Asus EeeBook R41', 'price': 433.3, 'stars': 5}, {'title': 'Acer Aspire 3 A3', 'price': 436.29, 'stars': 5}, {'title': 'Acer Aspire ES1-', 'price': 436.29, 'stars': 5}, {'title': 'Acer Extensa 15', 'price': 439.73, 'stars': 5}, {'title': 'Acer Aspire ES1-', 'price': 454.62, 'stars': 5}, {'title': 'Lenovo V110-15IS', 'price': 454.73, 'stars': 5}, {'title': 'Acer Aspire A315', 'price': 457.38, 'stars': 5}, {'title': 'Lenovo V110-15IK', 'price': 465.95, 'stars': 5}, {'title': 'Asus VivoBook 15', 'price': 468.56, 'stars': 5}, {'title': 'Acer Aspire ES1-', 'price': 469.1, 'stars': 5}, {'title': 'Lenovo V510 Blac', 'price': 484.23, 'stars': 5}, {'title': 'Acer Aspire ES1-', 'price': 485.9, 'stars': 5}, {'title': 'Lenovo V510 Blac', 'price': 487.8, 'stars': 5}, {'title': 'Acer Swift 1 SF1', 'price': 488.64, 'stars': 5}, {'title': 'Dell Vostro 15', 'price': 488.78, 'stars': 5}, {'title': 'Acer Aspire 3 A3', 'price': 494.71, 'stars': 5}, {'title': 'Dell Vostro 15 (', 'price': 497.17, 'stars': 5}, {'title': 'Lenovo V510 Blac', 'price': 498.23, 'stars': 5}, {'title': 'HP 250 G3', 'price': 520.99, 'stars': 5}, {'title': 'Acer Spin 5', 'price': 564.98, 'stars': 5}, {'title': 'HP 350 G1', 'price': 577.99, 'stars': 5}, {'title': 'Aspire E1-572G', 'price': 581.99, 'stars': 5}, {'title': 'Pavilion', 'price': 609.99, 'stars': 5}, {'title': 'Acer Aspire A515', 'price': 679.0, 'stars': 5}, {'title': 'Dell Inspiron 15', 'price': 679.0, 'stars': 5}, {'title': 'Asus VivoBook S1', 'price': 729.0, 'stars': 5}, {'title': 'ProBook', 'price': 739.99, 'stars': 5}, {'title': 'Inspiron 15', 'price': 745.99, 'stars': 5}, {'title': 'Asus ROG STRIX G', 'price': 799.0, 'stars': 5}, {'title': 'Acer Nitro 5 AN5', 'price': 809.0, 'stars': 5}, {'title': 'Asus ROG STRIX G', 'price': 899.0, 'stars': 5}, {'title': 'Lenovo ThinkPad', 'price': 999.0, 'stars': 5}, {'title': 'ThinkPad Yoga', 'price': 1033.99, 'stars': 5}, {'title': 'Lenovo ThinkPad', 'price': 1096.02, 'stars': 5}, {'title': 'Dell Inspiron 15', 'price': 1098.42, 'stars': 5}, {'title': 'MSI GL72M 7RDX', 'price': 1099.0, 'stars': 5}, {'title': 'MSI GL72M 7RDX', 'price': 1099.0, 'stars': 5}, {'title': 'Asus ROG Strix G', 'price': 1101.83, 'stars': 5}, {'title': 'Dell Latitude 52', 'price': 1102.66, 'stars': 5}, {'title': 'Dell Latitude 54', 'price': 1110.14, 'stars': 5}, {'title': 'Lenovo Legion Y5', 'price': 1112.91, 'stars': 5}, {'title': 'Toshiba Portege', 'price': 1114.55, 'stars': 5}, {'title': 'Acer Predator He', 'price': 1123.87, 'stars': 5}, {'title': 'Acer Aspire 7 A7', 'price': 1123.87, 'stars': 5}, {'title': 'Dell Inspiron 17', 'price': 1124.2, 'stars': 5}, {'title': 'Dell Latitude 54', 'price': 1133.82, 'stars': 5}, {'title': 'Lenovo Legion Y5', 'price': 1133.91, 'stars': 5}, {'title': 'Asus AsusPro Adv', 'price': 1139.54, 'stars': 5}, {'title': 'Acer Nitro 5 AN5', 'price': 1140.62, 'stars': 5}, {'title': 'Dell Latitude 54', 'price': 1143.4, 'stars': 5}, {'title': 'Dell Inspiron 15', 'price': 1144.2, 'stars': 5}, {'title': 'Dell Latitude 55', 'price': 1144.4, 'stars': 5}, {'title': 'MSI GP62M 7RDX L', 'price': 1149.0, 'stars': 5}, {'title': 'Lenovo Legion Y5', 'price': 1149.0, 'stars': 5}, {'title': 'Lenovo Yoga 720', 'price': 1149.73, 'stars': 5}, {'title': 'Toshiba Portege', 'price': 1154.04, 'stars': 5}, {'title': 'Acer TravelMate', 'price': 1170.1, 'stars': 5}, {'title': 'Dell Latitude 55', 'price': 1178.19, 'stars': 5}, {'title': 'ThinkPad T540p', 'price': 1178.99, 'stars': 5}, {'title': 'MSI GS63 7RD Ste', 'price': 1179.0, 'stars': 5}, {'title': 'Dell Latitude 54', 'price': 1187.88, 'stars': 5}, {'title': 'Acer Predator He', 'price': 1187.98, 'stars': 5}, {'title': 'MSI GL62M 7REX', 'price': 1199.0, 'stars': 5}, {'title': 'MSI GL62M 7REX2', 'price': 1199.0, 'stars': 5}, {'title': 'Lenovo Yoga 910', 'price': 1199.73, 'stars': 5}, {'title': 'Toshiba Portege', 'price': 1203.41, 'stars': 5}, {'title': 'Lenovo IdeaPad M', 'price': 1212.16, 'stars': 5}, {'title': 'Acer Predator He', 'price': 1221.58, 'stars': 5}, {'title': 'ThinkPad Yoga', 'price': 1223.99, 'stars': 5}, {'title': 'Asus VivoBook Pr', 'price': 1235.49, 'stars': 5}, {'title': 'Dell Latitude 54', 'price': 1238.37, 'stars': 5}, {'title': 'Asus ZenBook UX5', 'price': 1239.2, 'stars': 5}, {'title': 'ThinkPad X230', 'price': 1244.99, 'stars': 5}, {'title': 'Asus ROG Strix G', 'price': 1259.0, 'stars': 5}, {'title': 'Apple MacBook Ai', 'price': 1260.13, 'stars': 5}, {'title': 'Dell Latitude 54', 'price': 1271.06, 'stars': 5}, {'title': 'Hewlett Packard', 'price': 1273.11, 'stars': 5}, {'title': 'Dell XPS 13', 'price': 1281.99, 'stars': 5}, {'title': 'Toshiba Portege', 'price': 1294.74, 'stars': 5}, {'title': 'MSI GL62VR 7RFX', 'price': 1299.0, 'stars': 5}, {'title': 'Dell Latitude 54', 'price': 1310.39, 'stars': 5}, {'title': 'ThinkPad X240', 'price': 1311.99, 'stars': 5}, {'title': 'Hewlett Packard', 'price': 1326.83, 'stars': 5}, {'title': 'Apple MacBook Pr', 'price': 1333.0, 'stars': 5}, {'title': 'Dell Latitude 55', 'price': 1337.28, 'stars': 5}, {'title': 'Dell Latitude 54', 'price': 1338.37, 'stars': 5}, {'title': 'Dell Latitude 55', 'price': 1341.22, 'stars': 5}, {'title': 'Apple MacBook Ai', 'price': 1347.78, 'stars': 5}, {'title': 'Lenovo ThinkPad', 'price': 1349.23, 'stars': 5}, {'title': 'Lenovo ThinkPad', 'price': 1362.24, 'stars': 5}, {'title': 'Toshiba Portege', 'price': 1366.32, 'stars': 5}, {'title': 'Asus ASUSPRO B94', 'price': 1381.13, 'stars': 5}, {'title': 'Asus ROG Strix G', 'price': 1399.0, 'stars': 5}, {'title': 'Lenovo Legion Y7', 'price': 1399.0, 'stars': 5}, {'title': 'Asus ROG Strix G', 'price': 1769.0, 'stars': 5}, {'title': 'Asus ROG Strix G', 'price': 1769.0, 'stars': 5}, {'title': 'Asus ROG Strix S', 'price': 1799.0, 'stars': 5}]\n"
     ]
    }
   ],
   "source": [
    "print(dataList)"
   ]
  },
  {
   "cell_type": "code",
   "execution_count": 54,
   "metadata": {},
   "outputs": [],
   "source": [
    "driver.quit()"
   ]
  },
  {
   "cell_type": "code",
   "execution_count": 16,
   "metadata": {},
   "outputs": [
    {
     "name": "stdout",
     "output_type": "stream",
     "text": [
      "{'height': 1071, 'width': 1200}\n",
      "1071\n",
      "1361\n",
      "1651\n",
      "1941\n",
      "2231\n",
      "2521\n",
      "2811\n",
      "2811\n",
      "{'title': 'Apple iPad Air', 'price': 603.99, 'stars': 5}\n"
     ]
    }
   ],
   "source": [
    "driver = webdriver.Chrome(\"/Users/Andew1207/pytest/chromedriver\")\n",
    "driver.get(\"https://webscraper.io/test-sites/e-commerce/scroll/computers/tablets\")\n",
    "wrapper = driver.find_element_by_css_selector(\"body>div.wrapper\")\n",
    "print(wrapper.size)\n",
    "last_height = -1\n",
    "h = wrapper.size[\"height\"]\n",
    "while True:\n",
    "    driver.execute_script(\"window.scrollTo(0,{})\".format(h))\n",
    "    \n",
    "    sleep(0.1)\n",
    "    h = wrapper.size[\"height\"]\n",
    "    print(h)\n",
    "    if last_height == h:\n",
    "        break\n",
    "    else:\n",
    "        last_height = h\n",
    "    sleep(0.1)\n",
    "html = driver.find_element_by_css_selector(\"*\").get_attribute(\"outerHTML\")\n",
    "docLv2 = pq(html)\n",
    "dataList=[]\n",
    "for eachItemDoc in docLv2(\".thumbnail\").items():\n",
    "    dataDict={}\n",
    "    dataDict[\"title\"]=str(eachItemDoc(\".caption>h4>.title\").text())\n",
    "    dataDict[\"price\"]=float(eachItemDoc(\".caption>h4.price\").text().replace(\"$\",\"\"))\n",
    "    dataDict[\"stars\"]=int(len(eachItemDoc(\".ratings .glyphicon-star\")))\n",
    "    dataList.append(dataDict)\n",
    "    print(dataDict)\n",
    "    "
   ]
  },
  {
   "cell_type": "code",
   "execution_count": null,
   "metadata": {},
   "outputs": [],
   "source": []
  }
 ],
 "metadata": {
  "kernelspec": {
   "display_name": "Python 3",
   "language": "python",
   "name": "python3"
  },
  "language_info": {
   "codemirror_mode": {
    "name": "ipython",
    "version": 3
   },
   "file_extension": ".py",
   "mimetype": "text/x-python",
   "name": "python",
   "nbconvert_exporter": "python",
   "pygments_lexer": "ipython3",
   "version": "3.7.3"
  }
 },
 "nbformat": 4,
 "nbformat_minor": 2
}
