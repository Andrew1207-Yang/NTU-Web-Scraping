{
 "cells": [
  {
   "cell_type": "code",
   "execution_count": null,
   "metadata": {},
   "outputs": [],
   "source": [
    "#sublime text 3"
   ]
  },
  {
   "cell_type": "code",
   "execution_count": 6,
   "metadata": {},
   "outputs": [
    {
     "name": "stdout",
     "output_type": "stream",
     "text": [
      "7\n",
      "key1 5 A\n",
      "key2 6 A\n",
      "key 3 7 A\n",
      "key3 7 B\n",
      "key2 6 B\n",
      "key1 7 B\n",
      "key99 999 c\n",
      "[('key2', '6')]\n",
      "key2: 6 is present in both A and B\n"
     ]
    }
   ],
   "source": [
    "num=int(input())\n",
    "dataList = []  #[\"P\", \"Q\"]\n",
    "dataDict = {} #{\"P\": {}, \"Q\": {}} -> {\"P\": {\"key0\": \"2\"}, \"Q\": {\"key0\": \"2\"}} \n",
    "for i in range(num):\n",
    "    row = input()\n",
    "    rowList = row.split()\n",
    "    if not rowList[-1] in dataList:\n",
    "        dataList.append(rowList[-1])\n",
    "        dataDict[rowList[-1]] = {}\n",
    "    dataDict[rowList[-1]][rowList[0]]=rowList[1]\n",
    "dataSet= set(dataDict[dataList[0]].items())&set(dataDict[dataList[1]].items())\n",
    "dataList2=list(dataSet)\n",
    "dataList2.sort()\n",
    "for k in range(len(dataList2)):\n",
    "    print(dataList2[0][0],\": \",dataList2[0][1],\" is present in both \",dataList[0],\" and \",dataList[1],sep=\"\")\n",
    "    dataList2.pop(0)"
   ]
  },
  {
   "cell_type": "code",
   "execution_count": null,
   "metadata": {},
   "outputs": [],
   "source": [
    "num=int(input())\n",
    "dataList = []  #[\"P\", \"Q\"]\n",
    "dataDict = {} #{\"P\": {}, \"Q\": {}} -> {\"P\": {\"key0\": \"2\"}, \"Q\": {\"key0\": \"2\"}} \n",
    "for i in range(num):\n",
    "    row = input()\n",
    "    rowList = row.split()\n",
    "    if not rowList[-1] in dataList:\n",
    "        dataList.append(rowList[-1])\n",
    "        dataDict[rowList[-1]] = {}\n",
    "    dataDict[rowList[-1]][rowList[0]]=rowList[1]\n",
    "dataSet= set(dataDict[dataList[0]].items())&set(dataDict[dataList[1]].items())\n",
    "dataList2=list(dataSet)\n",
    "dataList2.sort()\n",
    "for k in dataList2:\n",
    "    print(\"{}: {} is presented in both {} and {}\".format(k[0],k[-1],dataList[0],dataList[-1]))"
   ]
  },
  {
   "cell_type": "code",
   "execution_count": 3,
   "metadata": {},
   "outputs": [
    {
     "name": "stdout",
     "output_type": "stream",
     "text": [
      "17\n",
      "00000000000012345\n"
     ]
    }
   ],
   "source": [
    "k=input()\n",
    "print((\"{:0>\"+str(k)+\"}\").format(\"12345\"))"
   ]
  },
  {
   "cell_type": "code",
   "execution_count": 8,
   "metadata": {},
   "outputs": [
    {
     "data": {
      "text/plain": [
       "''"
      ]
     },
     "execution_count": 8,
     "metadata": {},
     "output_type": "execute_result"
    }
   ],
   "source": [
    "Q=\"\\n\"\n",
    "Q.strip() # remove tab, return, space"
   ]
  },
  {
   "cell_type": "code",
   "execution_count": null,
   "metadata": {},
   "outputs": [],
   "source": [
    "Q.strip(\" \") #only removes what is in the tuple"
   ]
  },
  {
   "cell_type": "code",
   "execution_count": 2,
   "metadata": {},
   "outputs": [
    {
     "name": "stdout",
     "output_type": "stream",
     "text": [
      "<_io.TextIOWrapper name='Let_It_Be_Output.txt' mode='w' encoding='UTF-8'>\n"
     ]
    }
   ],
   "source": [
    "lyric = [ ]\n",
    "n=0\n",
    "\n",
    "with open(\"Let_It_Be.txt\",'r') as fObj: #fObj stands for file object\n",
    "    for line in fObj:\n",
    "        if line.strip()!=\"\":\n",
    "            n+=1\n",
    "            lyric.append(\"{}-\".format(n)+line.strip())\n",
    "\n",
    "with open(\"Let_It_Be_Output.txt\",\"w\") as fObj:\n",
    "    fObj.write(\"\\n\".join(lyric))"
   ]
  },
  {
   "cell_type": "code",
   "execution_count": 9,
   "metadata": {},
   "outputs": [
    {
     "name": "stdout",
     "output_type": "stream",
     "text": [
      "母湯喔\n",
      "123\n"
     ]
    }
   ],
   "source": [
    "import m1 #file name can only be a word\n",
    "m1.hello()\n",
    "print(m1.value)"
   ]
  },
  {
   "cell_type": "code",
   "execution_count": 29,
   "metadata": {},
   "outputs": [
    {
     "name": "stdout",
     "output_type": "stream",
     "text": [
      "0.13799269477472942\n",
      "46.56367192931474\n",
      "40\n",
      "1\n",
      "[1, 3]\n",
      "None\n"
     ]
    }
   ],
   "source": [
    "import random\n",
    "print(random.random()) #float between 0 and 1\n",
    "print(random.uniform(0,99)) # float between two give value\n",
    "print(random.randrange(0,50,2)) #a number chosen between 0 and 49 with a gap of 2\n",
    "print(random.choice([1,2,3,4]))# choose one in list(doesn't repeat)\n",
    "print(random.sample([1,2,3,4,5],2))# choose the amout that was given\n",
    "print(random.shuffle([1,2,3,4]))"
   ]
  },
  {
   "cell_type": "code",
   "execution_count": 27,
   "metadata": {},
   "outputs": [
    {
     "data": {
      "text/plain": [
       "0.8956742200351049"
      ]
     },
     "execution_count": 27,
     "metadata": {},
     "output_type": "execute_result"
    }
   ],
   "source": [
    "import random as r\n",
    "r.random()"
   ]
  },
  {
   "cell_type": "code",
   "execution_count": 25,
   "metadata": {},
   "outputs": [
    {
     "data": {
      "text/plain": [
       "'5'"
      ]
     },
     "execution_count": 25,
     "metadata": {},
     "output_type": "execute_result"
    }
   ],
   "source": [
    "from random import choice\n",
    "choice(\"12345\")"
   ]
  },
  {
   "cell_type": "code",
   "execution_count": 36,
   "metadata": {},
   "outputs": [
    {
     "ename": "IndentationError",
     "evalue": "expected an indented block (<ipython-input-36-5e6d293f8e97>, line 2)",
     "output_type": "error",
     "traceback": [
      "\u001b[1;36m  File \u001b[1;32m\"<ipython-input-36-5e6d293f8e97>\"\u001b[1;36m, line \u001b[1;32m2\u001b[0m\n\u001b[1;33m    import time\u001b[0m\n\u001b[1;37m         ^\u001b[0m\n\u001b[1;31mIndentationError\u001b[0m\u001b[1;31m:\u001b[0m expected an indented block\n"
     ]
    }
   ],
   "source": [
    "import time \n",
    "time.time()# shows he second passed since 00:00 1/1/1970"
   ]
  },
  {
   "cell_type": "code",
   "execution_count": 46,
   "metadata": {},
   "outputs": [
    {
     "name": "stdout",
     "output_type": "stream",
     "text": [
      "母湯喔\n",
      "0.0\n"
     ]
    }
   ],
   "source": [
    "t0=time.time()\n",
    "m1.hello()\n",
    "t1=time.time()\n",
    "print(t1-t0)"
   ]
  },
  {
   "cell_type": "code",
   "execution_count": 45,
   "metadata": {},
   "outputs": [
    {
     "name": "stdout",
     "output_type": "stream",
     "text": [
      "3.00614595413208\n"
     ]
    }
   ],
   "source": [
    "t0=time.time()\n",
    "time.sleep(3)\n",
    "t1=time.time()\n",
    "print(t1-t0)"
   ]
  },
  {
   "cell_type": "code",
   "execution_count": 52,
   "metadata": {},
   "outputs": [
    {
     "data": {
      "text/plain": [
       "1563281964.6540182"
      ]
     },
     "execution_count": 52,
     "metadata": {},
     "output_type": "execute_result"
    }
   ],
   "source": [
    "from time import * #import everything and doesn't need to type the import name\n",
    "time()"
   ]
  },
  {
   "cell_type": "code",
   "execution_count": 2,
   "metadata": {},
   "outputs": [
    {
     "data": {
      "text/plain": [
       "datetime.datetime(2019, 7, 18, 12, 11, 29, 157521)"
      ]
     },
     "execution_count": 2,
     "metadata": {},
     "output_type": "execute_result"
    }
   ],
   "source": [
    "import datetime\n",
    "datetime.datetime.now()"
   ]
  },
  {
   "cell_type": "code",
   "execution_count": 100,
   "metadata": {},
   "outputs": [
    {
     "name": "stdout",
     "output_type": "stream",
     "text": [
      "1563283229.3426409\n",
      "2019-07-16 21:20:29.342641\n"
     ]
    }
   ],
   "source": [
    "t0=time()\n",
    "print(t0)\n",
    "t1=datetime.datetime.fromtimestamp(t0)\n",
    "print(t1)"
   ]
  },
  {
   "cell_type": "code",
   "execution_count": 83,
   "metadata": {},
   "outputs": [],
   "source": [
    "t0=datetime.datetime(2017, 3, 20, 16, 53, 20)\n"
   ]
  },
  {
   "cell_type": "code",
   "execution_count": 84,
   "metadata": {},
   "outputs": [
    {
     "ename": "ValueError",
     "evalue": "day is out of range for month",
     "output_type": "error",
     "traceback": [
      "\u001b[1;31m---------------------------------------------------------------------------\u001b[0m",
      "\u001b[1;31mValueError\u001b[0m                                Traceback (most recent call last)",
      "\u001b[1;32m<ipython-input-84-b42ca1558ae8>\u001b[0m in \u001b[0;36m<module>\u001b[1;34m()\u001b[0m\n\u001b[1;32m----> 1\u001b[1;33m \u001b[0mt1\u001b[0m\u001b[1;33m=\u001b[0m\u001b[0mdatetime\u001b[0m\u001b[1;33m.\u001b[0m\u001b[0mdatetime\u001b[0m\u001b[1;33m(\u001b[0m\u001b[1;36m2001\u001b[0m\u001b[1;33m,\u001b[0m\u001b[1;36m2\u001b[0m\u001b[1;33m,\u001b[0m\u001b[1;36m29\u001b[0m\u001b[1;33m)\u001b[0m\u001b[1;33m\u001b[0m\u001b[0m\n\u001b[0m",
      "\u001b[1;31mValueError\u001b[0m: day is out of range for month"
     ]
    }
   ],
   "source": [
    "t1=datetime.datetime(2001,2,29) #can check if the date exists"
   ]
  },
  {
   "cell_type": "code",
   "execution_count": 5,
   "metadata": {},
   "outputs": [
    {
     "name": "stdout",
     "output_type": "stream",
     "text": [
      "2017-03-08 PM 11:30:42\n",
      "西元2017年03月08日 PM 11:30:42\n"
     ]
    }
   ],
   "source": [
    "t2= datetime.datetime(2017,3,8,23,30,42)\n",
    "t3=t2.strftime('%Y-%m-%d PM %I:%M:%S')\n",
    "print(t3)\n",
    "t4=t2.strftime('{}%Y{}%m{}%d{} %p %I:%M:%S'.format(\"西元\",\"年\",\"月\",\"日\"))\n",
    "print(t4)\n"
   ]
  },
  {
   "cell_type": "code",
   "execution_count": 118,
   "metadata": {},
   "outputs": [
    {
     "name": "stdout",
     "output_type": "stream",
     "text": [
      "197\n"
     ]
    }
   ],
   "source": [
    "t6=datetime.datetime.now()\n",
    "t5=t6.strftime(\"%j\")\n",
    "print(t5)"
   ]
  },
  {
   "cell_type": "code",
   "execution_count": 120,
   "metadata": {},
   "outputs": [
    {
     "name": "stdout",
     "output_type": "stream",
     "text": [
      "1\n"
     ]
    }
   ],
   "source": [
    "t7=datetime.datetime.now()\n",
    "t8=t7.strftime(\"%w\")\n",
    "print(int(t8)-1)"
   ]
  },
  {
   "cell_type": "code",
   "execution_count": 124,
   "metadata": {},
   "outputs": [
    {
     "name": "stdout",
     "output_type": "stream",
     "text": [
      "1\n",
      "一\n"
     ]
    }
   ],
   "source": [
    "weekDay=['一','二','三','四','五','六','日']\n",
    "q1=datetime.datetime.now()\n",
    "q2=q1-datetime.timedelta(days=1)\n",
    "q3=q2.strftime(\"%w\")\n",
    "print(q3)\n",
    "print(weekDay[int(q3)-1])"
   ]
  },
  {
   "cell_type": "code",
   "execution_count": 128,
   "metadata": {},
   "outputs": [
    {
     "data": {
      "text/plain": [
       "2307"
      ]
     },
     "execution_count": 128,
     "metadata": {},
     "output_type": "execute_result"
    }
   ],
   "source": [
    "p1=datetime.datetime(2017,2,2)\n",
    "p2=datetime.datetime(2010,10,10)\n",
    "(p1-p2).days"
   ]
  },
  {
   "cell_type": "code",
   "execution_count": null,
   "metadata": {},
   "outputs": [],
   "source": []
  },
  {
   "cell_type": "code",
   "execution_count": 131,
   "metadata": {},
   "outputs": [
    {
     "name": "stdout",
     "output_type": "stream",
     "text": [
      "2010-05-09 00:00:00\n",
      "2011-05-08 00:00:00\n",
      "2012-05-13 00:00:00\n",
      "2013-05-12 00:00:00\n",
      "2014-05-11 00:00:00\n",
      "2015-05-10 00:00:00\n",
      "2016-05-08 00:00:00\n",
      "2017-05-14 00:00:00\n",
      "2018-05-13 00:00:00\n",
      "2019-05-12 00:00:00\n",
      "2020-05-10 00:00:00\n"
     ]
    }
   ],
   "source": [
    "for year in range(2010,2021):\n",
    "    w1=datetime.datetime(year,5,1)\n",
    "    w2=int(w1.strftime(\"%w\"))\n",
    "    if w2==0:\n",
    "        mD=w2+7\n",
    "    else:\n",
    "        mD=(14-w2)\n",
    "    date=w1+datetime.timedelta(days=mD)\n",
    "    print(date)\n",
    "        \n",
    "        \n",
    "        "
   ]
  },
  {
   "cell_type": "code",
   "execution_count": 127,
   "metadata": {},
   "outputs": [
    {
     "data": {
      "text/plain": [
       "120"
      ]
     },
     "execution_count": 127,
     "metadata": {},
     "output_type": "execute_result"
    }
   ],
   "source": [
    "31+28+31+30"
   ]
  },
  {
   "cell_type": "code",
   "execution_count": null,
   "metadata": {},
   "outputs": [],
   "source": []
  },
  {
   "cell_type": "code",
   "execution_count": null,
   "metadata": {},
   "outputs": [],
   "source": []
  },
  {
   "cell_type": "code",
   "execution_count": null,
   "metadata": {},
   "outputs": [],
   "source": []
  },
  {
   "cell_type": "code",
   "execution_count": null,
   "metadata": {},
   "outputs": [],
   "source": []
  },
  {
   "cell_type": "code",
   "execution_count": null,
   "metadata": {},
   "outputs": [],
   "source": []
  },
  {
   "cell_type": "code",
   "execution_count": null,
   "metadata": {},
   "outputs": [],
   "source": []
  },
  {
   "cell_type": "code",
   "execution_count": null,
   "metadata": {},
   "outputs": [],
   "source": []
  },
  {
   "cell_type": "code",
   "execution_count": null,
   "metadata": {},
   "outputs": [],
   "source": []
  },
  {
   "cell_type": "code",
   "execution_count": null,
   "metadata": {},
   "outputs": [],
   "source": []
  },
  {
   "cell_type": "code",
   "execution_count": null,
   "metadata": {},
   "outputs": [],
   "source": []
  },
  {
   "cell_type": "code",
   "execution_count": null,
   "metadata": {},
   "outputs": [],
   "source": []
  },
  {
   "cell_type": "code",
   "execution_count": null,
   "metadata": {},
   "outputs": [],
   "source": []
  },
  {
   "cell_type": "code",
   "execution_count": null,
   "metadata": {},
   "outputs": [],
   "source": []
  },
  {
   "cell_type": "code",
   "execution_count": null,
   "metadata": {},
   "outputs": [],
   "source": []
  },
  {
   "cell_type": "code",
   "execution_count": null,
   "metadata": {},
   "outputs": [],
   "source": []
  },
  {
   "cell_type": "code",
   "execution_count": null,
   "metadata": {},
   "outputs": [],
   "source": []
  },
  {
   "cell_type": "code",
   "execution_count": null,
   "metadata": {},
   "outputs": [],
   "source": []
  },
  {
   "cell_type": "code",
   "execution_count": null,
   "metadata": {},
   "outputs": [],
   "source": []
  }
 ],
 "metadata": {
  "kernelspec": {
   "display_name": "Python 3",
   "language": "python",
   "name": "python3"
  },
  "language_info": {
   "codemirror_mode": {
    "name": "ipython",
    "version": 3
   },
   "file_extension": ".py",
   "mimetype": "text/x-python",
   "name": "python",
   "nbconvert_exporter": "python",
   "pygments_lexer": "ipython3",
   "version": "3.7.3"
  }
 },
 "nbformat": 4,
 "nbformat_minor": 2
}
